{
 "cells": [
  {
   "cell_type": "markdown",
   "metadata": {},
   "source": [
    "## 실습 2-2-1.스택 자료구조 구현\n",
    "- 스택 ADT를 참고하여 스택 자료구조를 구현해본다\n",
    "- 리스트로 스택을 생성하고 각 함수를 정의한다"
   ]
  },
  {
   "cell_type": "markdown",
   "metadata": {},
   "source": [
    "### 스택 ADT\n",
    "- is_empty(STACK): 스택이 비었는지 아닌지를 검사 (returns True or False)\n",
    "- push(STACK, item): 스택의 top 위치에 요소를 추가한다\n",
    "- pop(STACK): 스택의 top 위치에 있는 요소를 제거한다\n",
    "- top_value(STACK): 스택의 top 위치에 있는 요소를 반환한다\n",
    "- get_size(STACK): 스택의 사이즈(요소의 개수)를 반환한다"
   ]
  },
  {
   "cell_type": "code",
   "execution_count": 1,
   "metadata": {
    "collapsed": true
   },
   "outputs": [],
   "source": [
    "def is_empty(stack):\n",
    "    return bool(len(stack))\n",
    "def push(stack, item):\n",
    "    stack.append(item)\n",
    "def pop(stack):\n",
    "    return stack.pop()\n",
    "def top_value(stack):\n",
    "    return stack[len(stack) - 1]\n",
    "def get_size(stack):\n",
    "    return len(stack)"
   ]
  },
  {
   "cell_type": "code",
   "execution_count": 4,
   "metadata": {
    "collapsed": false
   },
   "outputs": [
    {
     "name": "stdout",
     "output_type": "stream",
     "text": [
      "True\n",
      "[1, 2, 3, 4, 5, 6]\n",
      "[1, 2, 3, 4, 5]\n",
      "5\n",
      "5\n"
     ]
    }
   ],
   "source": [
    "stack = [1, 2, 3, 4, 5]\n",
    "print(is_empty(stack))\n",
    "push(stack, 6)\n",
    "print(stack)\n",
    "pop(stack)\n",
    "print(stack)\n",
    "print(top_value(stack))\n",
    "print(get_size(stack))"
   ]
  },
  {
   "cell_type": "markdown",
   "metadata": {},
   "source": [
    "## 실습 2-2-2. 큐 자료구조 구현\n",
    "- 큐 ADT를 참고하여 큐 자료구조를 구현해본다\n",
    "- 리스트로 큐를 생성하고 각 함수를 정의한다\n",
    "- front와 rear를 리스트의 어느 끝으로 정의해야 할 것인가?!"
   ]
  },
  {
   "cell_type": "markdown",
   "metadata": {},
   "source": [
    "### 큐 ADT\n",
    "- is_empty(QUEUE): 큐가 비었는지 아닌지를 검사\n",
    "- enqueue(QUEUE, item): 큐의 rear 위치에 요소를 추가한다\n",
    "- dequeue(QUEUE): 큐의 front 위치에 있는 요소를 제거한다\n",
    "- get_size(QUEUE): 스택의 사이즈(요소의 개수)를 반환한다"
   ]
  },
  {
   "cell_type": "code",
   "execution_count": 15,
   "metadata": {
    "collapsed": false
   },
   "outputs": [],
   "source": [
    "# front는 리스트의 끝, rear는 리스트의 시작\n",
    "def is_empty(queue):\n",
    "    return bool(len(queue))\n",
    "def enqueue(queue, item):\n",
    "    queue.append(item)\n",
    "def dequeue(queue):\n",
    "    temp = queue[0]\n",
    "    for i in range(len(queue)-1):\n",
    "        queue[i] = queue[i+1]\n",
    "    queue.pop()\n",
    "    return temp\n",
    "def get_size(queue):\n",
    "    return len(queue)"
   ]
  },
  {
   "cell_type": "code",
   "execution_count": 16,
   "metadata": {
    "collapsed": false
   },
   "outputs": [
    {
     "name": "stdout",
     "output_type": "stream",
     "text": [
      "True\n",
      "[1, 2, 3, 4, 5, 6]\n",
      "[2, 3, 4, 5, 6]\n",
      "5\n"
     ]
    }
   ],
   "source": [
    "queue = [1, 2, 3, 4, 5]\n",
    "print(is_empty(queue))\n",
    "enqueue(queue, 6)\n",
    "print(queue)\n",
    "dequeue(queue)\n",
    "print(queue)\n",
    "print(get_size(queue))"
   ]
  },
  {
   "cell_type": "code",
   "execution_count": 23,
   "metadata": {
    "collapsed": true
   },
   "outputs": [],
   "source": [
    "# front는 리스트의 시작, rear는 리스트의 끝\n",
    "def is_empty(queue):\n",
    "    return bool(len(queue))\n",
    "def enqueue(queue, item):\n",
    "    queue.append(None)\n",
    "    for i in range(len(queue) - 1, 0, -1):\n",
    "        queue[i] = queue[i-1]\n",
    "    queue[0] = item\n",
    "def dequeue(queue):\n",
    "    return queue.pop()\n",
    "def get_size(queue):\n",
    "    return len(queue)"
   ]
  },
  {
   "cell_type": "code",
   "execution_count": 24,
   "metadata": {
    "collapsed": false
   },
   "outputs": [
    {
     "name": "stdout",
     "output_type": "stream",
     "text": [
      "True\n",
      "[6, 5, 4, 3, 2, 1]\n",
      "[6, 5, 4, 3, 2]\n",
      "5\n"
     ]
    }
   ],
   "source": [
    "queue = [5, 4, 3, 2, 1]\n",
    "print(is_empty(queue))\n",
    "enqueue(queue, 6)\n",
    "print(queue)\n",
    "dequeue(queue)\n",
    "print(queue)\n",
    "print(get_size(queue))"
   ]
  },
  {
   "cell_type": "markdown",
   "metadata": {},
   "source": [
    "## 실습 2-2-3. 삽입정렬 구현\n",
    "- 리스트를 입력으로 받아 정렬된 리스트를 리턴해주는 insertion_sort() 함수를 구현한다\n",
    "- 삽입정렬을 구현하는 데에는 수많은 방법이 있다 – 가장 효율적인 방법을 창의적으로 생각해 본다"
   ]
  },
  {
   "cell_type": "code",
   "execution_count": 27,
   "metadata": {
    "collapsed": true
   },
   "outputs": [],
   "source": [
    "def insertion_sort(seq):\n",
    "    for i in range(1,len(seq)):    \n",
    "        j = i                    \n",
    "        while j > 0 and seq[j] < seq[j-1]: \n",
    "            seq[j], seq[j-1] = seq[j-1], seq[j] \n",
    "            j=j-1 \n",
    "    return seq"
   ]
  },
  {
   "cell_type": "code",
   "execution_count": 28,
   "metadata": {
    "collapsed": false
   },
   "outputs": [
    {
     "data": {
      "text/plain": [
       "[1, 2, 3, 4, 5, 8, 9]"
      ]
     },
     "execution_count": 28,
     "metadata": {},
     "output_type": "execute_result"
    }
   ],
   "source": [
    "insertion_sort([9, 4, 8, 2, 3, 5, 1])"
   ]
  },
  {
   "cell_type": "markdown",
   "metadata": {},
   "source": [
    "## 실습 2-2-4. 거품정렬 구현\n",
    "- 리스트를 입력으로 받아 정렬된 리스트를 리턴해주는 bubble_sort() 함수를 구현한다\n",
    "- 거품정렬을 구현하는 데에는 수많은 방법이 있다 – 가장 효율적인 방법을 창의적으로 생각해 본다"
   ]
  },
  {
   "cell_type": "code",
   "execution_count": 32,
   "metadata": {
    "collapsed": false
   },
   "outputs": [],
   "source": [
    "def bubble_sort(seq):\n",
    "    length = len(seq)        \n",
    "    for a in range(length):\n",
    "        for b in range(length-1):\n",
    "            if (seq[a] < seq[b]):\n",
    "                seq[a], seq[b] = seq[b], seq[a]\n",
    "    return seq "
   ]
  },
  {
   "cell_type": "code",
   "execution_count": 33,
   "metadata": {
    "collapsed": false
   },
   "outputs": [
    {
     "data": {
      "text/plain": [
       "[1, 2, 3, 4, 5, 8, 9]"
      ]
     },
     "execution_count": 33,
     "metadata": {},
     "output_type": "execute_result"
    }
   ],
   "source": [
    "bubble_sort([9, 4, 8, 2, 3, 5, 1])"
   ]
  },
  {
   "cell_type": "markdown",
   "metadata": {},
   "source": [
    "## 실습 2-2-5. 이진탐색 구현\n",
    "- 정렬된 리스트와 특정 값을 입력 받아 그 값이 리스트에서 위치한 인덱스를 반환해주는 binary_search() 함수를 구현한다\n",
    "- 그 값이 리스트에 없을 경우 None을 반환한다"
   ]
  },
  {
   "cell_type": "code",
   "execution_count": 1,
   "metadata": {
    "collapsed": true
   },
   "outputs": [],
   "source": [
    "def binary_search(alist, value):\n",
    "    lower = 0\n",
    "    upper = len(alist)\n",
    "    while lower < upper:\n",
    "        x = lower + (upper - lower) // 2\n",
    "        temp = alist[x]\n",
    "        if value == temp:\n",
    "            return x\n",
    "        elif value > temp:\n",
    "            if lower == x:\n",
    "                break\n",
    "            lower = x\n",
    "        else:\n",
    "            upper = x"
   ]
  },
  {
   "cell_type": "code",
   "execution_count": 6,
   "metadata": {
    "collapsed": false
   },
   "outputs": [
    {
     "name": "stdout",
     "output_type": "stream",
     "text": [
      "1\n",
      "None\n",
      "2\n",
      "None\n"
     ]
    }
   ],
   "source": [
    "# 이진 탐색의 인풋은 정렬된 리스트여야 함\n",
    "print(binary_search([1,5,8,10], 5))\n",
    "print(binary_search([1,5,8,10], 0))\n",
    "print(binary_search([1,2,9,10,12,15,19], 9))\n",
    "print(binary_search([1,2,9,10,12,15,19], 20))"
   ]
  }
 ],
 "metadata": {
  "kernelspec": {
   "display_name": "Python [py35]",
   "language": "python",
   "name": "Python [py35]"
  },
  "language_info": {
   "codemirror_mode": {
    "name": "ipython",
    "version": 3
   },
   "file_extension": ".py",
   "mimetype": "text/x-python",
   "name": "python",
   "nbconvert_exporter": "python",
   "pygments_lexer": "ipython3",
   "version": "3.5.2"
  }
 },
 "nbformat": 4,
 "nbformat_minor": 2
}
